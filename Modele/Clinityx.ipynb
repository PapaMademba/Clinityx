{
 "cells": [
  {
   "cell_type": "code",
   "execution_count": 1,
   "metadata": {},
   "outputs": [],
   "source": [
    "import pandas as pd\n",
    "import numpy as np"
   ]
  },
  {
   "cell_type": "code",
   "execution_count": 3,
   "metadata": {},
   "outputs": [
    {
     "data": {
      "text/html": [
       "<div>\n",
       "<style scoped>\n",
       "    .dataframe tbody tr th:only-of-type {\n",
       "        vertical-align: middle;\n",
       "    }\n",
       "\n",
       "    .dataframe tbody tr th {\n",
       "        vertical-align: top;\n",
       "    }\n",
       "\n",
       "    .dataframe thead th {\n",
       "        text-align: right;\n",
       "    }\n",
       "</style>\n",
       "<table border=\"1\" class=\"dataframe\">\n",
       "  <thead>\n",
       "    <tr style=\"text-align: right;\">\n",
       "      <th></th>\n",
       "      <th>Unnamed: 0</th>\n",
       "      <th>id_individu</th>\n",
       "      <th>mortalite_intra_hosp</th>\n",
       "      <th>complication_intra_hosp</th>\n",
       "      <th>age</th>\n",
       "      <th>ic_atcd</th>\n",
       "      <th>hypertension_atcd</th>\n",
       "      <th>aoc_atcd</th>\n",
       "      <th>aoc_post_hosp</th>\n",
       "      <th>pacemaker_hist</th>\n",
       "      <th>cardio_consultation_hist</th>\n",
       "    </tr>\n",
       "  </thead>\n",
       "  <tbody>\n",
       "    <tr>\n",
       "      <th>0</th>\n",
       "      <td>0</td>\n",
       "      <td>0</td>\n",
       "      <td>1</td>\n",
       "      <td>1</td>\n",
       "      <td>33</td>\n",
       "      <td>0</td>\n",
       "      <td>1</td>\n",
       "      <td>0</td>\n",
       "      <td>0</td>\n",
       "      <td>0</td>\n",
       "      <td>0</td>\n",
       "    </tr>\n",
       "    <tr>\n",
       "      <th>1</th>\n",
       "      <td>1</td>\n",
       "      <td>1</td>\n",
       "      <td>1</td>\n",
       "      <td>1</td>\n",
       "      <td>92</td>\n",
       "      <td>0</td>\n",
       "      <td>1</td>\n",
       "      <td>0</td>\n",
       "      <td>0</td>\n",
       "      <td>0</td>\n",
       "      <td>1</td>\n",
       "    </tr>\n",
       "    <tr>\n",
       "      <th>2</th>\n",
       "      <td>2</td>\n",
       "      <td>2</td>\n",
       "      <td>1</td>\n",
       "      <td>1</td>\n",
       "      <td>38</td>\n",
       "      <td>1</td>\n",
       "      <td>1</td>\n",
       "      <td>0</td>\n",
       "      <td>0</td>\n",
       "      <td>0</td>\n",
       "      <td>1</td>\n",
       "    </tr>\n",
       "    <tr>\n",
       "      <th>3</th>\n",
       "      <td>3</td>\n",
       "      <td>3</td>\n",
       "      <td>1</td>\n",
       "      <td>1</td>\n",
       "      <td>50</td>\n",
       "      <td>1</td>\n",
       "      <td>0</td>\n",
       "      <td>0</td>\n",
       "      <td>0</td>\n",
       "      <td>1</td>\n",
       "      <td>1</td>\n",
       "    </tr>\n",
       "    <tr>\n",
       "      <th>4</th>\n",
       "      <td>4</td>\n",
       "      <td>4</td>\n",
       "      <td>1</td>\n",
       "      <td>1</td>\n",
       "      <td>22</td>\n",
       "      <td>0</td>\n",
       "      <td>0</td>\n",
       "      <td>0</td>\n",
       "      <td>0</td>\n",
       "      <td>1</td>\n",
       "      <td>1</td>\n",
       "    </tr>\n",
       "  </tbody>\n",
       "</table>\n",
       "</div>"
      ],
      "text/plain": [
       "   Unnamed: 0  id_individu  mortalite_intra_hosp  complication_intra_hosp  \\\n",
       "0           0            0                     1                        1   \n",
       "1           1            1                     1                        1   \n",
       "2           2            2                     1                        1   \n",
       "3           3            3                     1                        1   \n",
       "4           4            4                     1                        1   \n",
       "\n",
       "   age  ic_atcd  hypertension_atcd  aoc_atcd  aoc_post_hosp  pacemaker_hist  \\\n",
       "0   33        0                  1         0              0               0   \n",
       "1   92        0                  1         0              0               0   \n",
       "2   38        1                  1         0              0               0   \n",
       "3   50        1                  0         0              0               1   \n",
       "4   22        0                  0         0              0               1   \n",
       "\n",
       "   cardio_consultation_hist  \n",
       "0                         0  \n",
       "1                         1  \n",
       "2                         1  \n",
       "3                         1  \n",
       "4                         1  "
      ]
     },
     "execution_count": 3,
     "metadata": {},
     "output_type": "execute_result"
    }
   ],
   "source": [
    "df= pd.read_csv(\"data_test_technique.csv\",sep = ';')\n",
    "df.head()"
   ]
  },
  {
   "cell_type": "code",
   "execution_count": 4,
   "metadata": {},
   "outputs": [
    {
     "data": {
      "text/html": [
       "<div>\n",
       "<style scoped>\n",
       "    .dataframe tbody tr th:only-of-type {\n",
       "        vertical-align: middle;\n",
       "    }\n",
       "\n",
       "    .dataframe tbody tr th {\n",
       "        vertical-align: top;\n",
       "    }\n",
       "\n",
       "    .dataframe thead th {\n",
       "        text-align: right;\n",
       "    }\n",
       "</style>\n",
       "<table border=\"1\" class=\"dataframe\">\n",
       "  <thead>\n",
       "    <tr style=\"text-align: right;\">\n",
       "      <th></th>\n",
       "      <th>id_individu</th>\n",
       "      <th>mortalite_intra_hosp</th>\n",
       "      <th>complication_intra_hosp</th>\n",
       "      <th>age</th>\n",
       "      <th>ic_atcd</th>\n",
       "      <th>hypertension_atcd</th>\n",
       "      <th>aoc_atcd</th>\n",
       "      <th>aoc_post_hosp</th>\n",
       "      <th>pacemaker_hist</th>\n",
       "      <th>cardio_consultation_hist</th>\n",
       "    </tr>\n",
       "  </thead>\n",
       "  <tbody>\n",
       "    <tr>\n",
       "      <th>0</th>\n",
       "      <td>0</td>\n",
       "      <td>1</td>\n",
       "      <td>1</td>\n",
       "      <td>33</td>\n",
       "      <td>0</td>\n",
       "      <td>1</td>\n",
       "      <td>0</td>\n",
       "      <td>0</td>\n",
       "      <td>0</td>\n",
       "      <td>0</td>\n",
       "    </tr>\n",
       "    <tr>\n",
       "      <th>1</th>\n",
       "      <td>1</td>\n",
       "      <td>1</td>\n",
       "      <td>1</td>\n",
       "      <td>92</td>\n",
       "      <td>0</td>\n",
       "      <td>1</td>\n",
       "      <td>0</td>\n",
       "      <td>0</td>\n",
       "      <td>0</td>\n",
       "      <td>1</td>\n",
       "    </tr>\n",
       "    <tr>\n",
       "      <th>2</th>\n",
       "      <td>2</td>\n",
       "      <td>1</td>\n",
       "      <td>1</td>\n",
       "      <td>38</td>\n",
       "      <td>1</td>\n",
       "      <td>1</td>\n",
       "      <td>0</td>\n",
       "      <td>0</td>\n",
       "      <td>0</td>\n",
       "      <td>1</td>\n",
       "    </tr>\n",
       "    <tr>\n",
       "      <th>3</th>\n",
       "      <td>3</td>\n",
       "      <td>1</td>\n",
       "      <td>1</td>\n",
       "      <td>50</td>\n",
       "      <td>1</td>\n",
       "      <td>0</td>\n",
       "      <td>0</td>\n",
       "      <td>0</td>\n",
       "      <td>1</td>\n",
       "      <td>1</td>\n",
       "    </tr>\n",
       "    <tr>\n",
       "      <th>4</th>\n",
       "      <td>4</td>\n",
       "      <td>1</td>\n",
       "      <td>1</td>\n",
       "      <td>22</td>\n",
       "      <td>0</td>\n",
       "      <td>0</td>\n",
       "      <td>0</td>\n",
       "      <td>0</td>\n",
       "      <td>1</td>\n",
       "      <td>1</td>\n",
       "    </tr>\n",
       "  </tbody>\n",
       "</table>\n",
       "</div>"
      ],
      "text/plain": [
       "   id_individu  mortalite_intra_hosp  complication_intra_hosp  age  ic_atcd  \\\n",
       "0            0                     1                        1   33        0   \n",
       "1            1                     1                        1   92        0   \n",
       "2            2                     1                        1   38        1   \n",
       "3            3                     1                        1   50        1   \n",
       "4            4                     1                        1   22        0   \n",
       "\n",
       "   hypertension_atcd  aoc_atcd  aoc_post_hosp  pacemaker_hist  \\\n",
       "0                  1         0              0               0   \n",
       "1                  1         0              0               0   \n",
       "2                  1         0              0               0   \n",
       "3                  0         0              0               1   \n",
       "4                  0         0              0               1   \n",
       "\n",
       "   cardio_consultation_hist  \n",
       "0                         0  \n",
       "1                         1  \n",
       "2                         1  \n",
       "3                         1  \n",
       "4                         1  "
      ]
     },
     "execution_count": 4,
     "metadata": {},
     "output_type": "execute_result"
    }
   ],
   "source": [
    "df = df.drop(\"Unnamed: 0\", axis=1)\n",
    "df.head()"
   ]
  },
  {
   "cell_type": "markdown",
   "metadata": {},
   "source": [
    "<h1> Combien d’individus sont âgés de plus de 60 ans et présentes un antécédent\n",
    "d’insuffisance cardiaque ou d’hypertension ?"
   ]
  },
  {
   "cell_type": "code",
   "execution_count": 7,
   "metadata": {},
   "outputs": [
    {
     "data": {
      "text/html": [
       "<div>\n",
       "<style scoped>\n",
       "    .dataframe tbody tr th:only-of-type {\n",
       "        vertical-align: middle;\n",
       "    }\n",
       "\n",
       "    .dataframe tbody tr th {\n",
       "        vertical-align: top;\n",
       "    }\n",
       "\n",
       "    .dataframe thead th {\n",
       "        text-align: right;\n",
       "    }\n",
       "</style>\n",
       "<table border=\"1\" class=\"dataframe\">\n",
       "  <thead>\n",
       "    <tr style=\"text-align: right;\">\n",
       "      <th></th>\n",
       "      <th>id_individu</th>\n",
       "      <th>mortalite_intra_hosp</th>\n",
       "      <th>complication_intra_hosp</th>\n",
       "      <th>age</th>\n",
       "      <th>ic_atcd</th>\n",
       "      <th>hypertension_atcd</th>\n",
       "      <th>aoc_atcd</th>\n",
       "      <th>aoc_post_hosp</th>\n",
       "      <th>pacemaker_hist</th>\n",
       "      <th>cardio_consultation_hist</th>\n",
       "    </tr>\n",
       "  </thead>\n",
       "  <tbody>\n",
       "    <tr>\n",
       "      <th>1</th>\n",
       "      <td>1</td>\n",
       "      <td>1</td>\n",
       "      <td>1</td>\n",
       "      <td>92</td>\n",
       "      <td>0</td>\n",
       "      <td>1</td>\n",
       "      <td>0</td>\n",
       "      <td>0</td>\n",
       "      <td>0</td>\n",
       "      <td>1</td>\n",
       "    </tr>\n",
       "    <tr>\n",
       "      <th>5</th>\n",
       "      <td>5</td>\n",
       "      <td>1</td>\n",
       "      <td>1</td>\n",
       "      <td>97</td>\n",
       "      <td>0</td>\n",
       "      <td>1</td>\n",
       "      <td>0</td>\n",
       "      <td>0</td>\n",
       "      <td>0</td>\n",
       "      <td>1</td>\n",
       "    </tr>\n",
       "    <tr>\n",
       "      <th>6</th>\n",
       "      <td>6</td>\n",
       "      <td>1</td>\n",
       "      <td>1</td>\n",
       "      <td>80</td>\n",
       "      <td>1</td>\n",
       "      <td>0</td>\n",
       "      <td>0</td>\n",
       "      <td>0</td>\n",
       "      <td>0</td>\n",
       "      <td>1</td>\n",
       "    </tr>\n",
       "    <tr>\n",
       "      <th>7</th>\n",
       "      <td>7</td>\n",
       "      <td>1</td>\n",
       "      <td>1</td>\n",
       "      <td>80</td>\n",
       "      <td>0</td>\n",
       "      <td>0</td>\n",
       "      <td>0</td>\n",
       "      <td>0</td>\n",
       "      <td>1</td>\n",
       "      <td>1</td>\n",
       "    </tr>\n",
       "    <tr>\n",
       "      <th>9</th>\n",
       "      <td>9</td>\n",
       "      <td>1</td>\n",
       "      <td>1</td>\n",
       "      <td>97</td>\n",
       "      <td>0</td>\n",
       "      <td>0</td>\n",
       "      <td>0</td>\n",
       "      <td>0</td>\n",
       "      <td>0</td>\n",
       "      <td>1</td>\n",
       "    </tr>\n",
       "    <tr>\n",
       "      <th>...</th>\n",
       "      <td>...</td>\n",
       "      <td>...</td>\n",
       "      <td>...</td>\n",
       "      <td>...</td>\n",
       "      <td>...</td>\n",
       "      <td>...</td>\n",
       "      <td>...</td>\n",
       "      <td>...</td>\n",
       "      <td>...</td>\n",
       "      <td>...</td>\n",
       "    </tr>\n",
       "    <tr>\n",
       "      <th>9992</th>\n",
       "      <td>9992</td>\n",
       "      <td>0</td>\n",
       "      <td>0</td>\n",
       "      <td>82</td>\n",
       "      <td>1</td>\n",
       "      <td>0</td>\n",
       "      <td>1</td>\n",
       "      <td>1</td>\n",
       "      <td>0</td>\n",
       "      <td>1</td>\n",
       "    </tr>\n",
       "    <tr>\n",
       "      <th>9993</th>\n",
       "      <td>9993</td>\n",
       "      <td>0</td>\n",
       "      <td>0</td>\n",
       "      <td>61</td>\n",
       "      <td>0</td>\n",
       "      <td>0</td>\n",
       "      <td>1</td>\n",
       "      <td>1</td>\n",
       "      <td>0</td>\n",
       "      <td>1</td>\n",
       "    </tr>\n",
       "    <tr>\n",
       "      <th>9994</th>\n",
       "      <td>9994</td>\n",
       "      <td>0</td>\n",
       "      <td>0</td>\n",
       "      <td>97</td>\n",
       "      <td>0</td>\n",
       "      <td>0</td>\n",
       "      <td>0</td>\n",
       "      <td>1</td>\n",
       "      <td>0</td>\n",
       "      <td>0</td>\n",
       "    </tr>\n",
       "    <tr>\n",
       "      <th>9996</th>\n",
       "      <td>9996</td>\n",
       "      <td>0</td>\n",
       "      <td>0</td>\n",
       "      <td>96</td>\n",
       "      <td>1</td>\n",
       "      <td>0</td>\n",
       "      <td>1</td>\n",
       "      <td>0</td>\n",
       "      <td>0</td>\n",
       "      <td>1</td>\n",
       "    </tr>\n",
       "    <tr>\n",
       "      <th>9999</th>\n",
       "      <td>9999</td>\n",
       "      <td>0</td>\n",
       "      <td>0</td>\n",
       "      <td>70</td>\n",
       "      <td>1</td>\n",
       "      <td>1</td>\n",
       "      <td>1</td>\n",
       "      <td>1</td>\n",
       "      <td>0</td>\n",
       "      <td>0</td>\n",
       "    </tr>\n",
       "  </tbody>\n",
       "</table>\n",
       "<p>4782 rows × 10 columns</p>\n",
       "</div>"
      ],
      "text/plain": [
       "      id_individu  mortalite_intra_hosp  complication_intra_hosp  age  \\\n",
       "1               1                     1                        1   92   \n",
       "5               5                     1                        1   97   \n",
       "6               6                     1                        1   80   \n",
       "7               7                     1                        1   80   \n",
       "9               9                     1                        1   97   \n",
       "...           ...                   ...                      ...  ...   \n",
       "9992         9992                     0                        0   82   \n",
       "9993         9993                     0                        0   61   \n",
       "9994         9994                     0                        0   97   \n",
       "9996         9996                     0                        0   96   \n",
       "9999         9999                     0                        0   70   \n",
       "\n",
       "      ic_atcd  hypertension_atcd  aoc_atcd  aoc_post_hosp  pacemaker_hist  \\\n",
       "1           0                  1         0              0               0   \n",
       "5           0                  1         0              0               0   \n",
       "6           1                  0         0              0               0   \n",
       "7           0                  0         0              0               1   \n",
       "9           0                  0         0              0               0   \n",
       "...       ...                ...       ...            ...             ...   \n",
       "9992        1                  0         1              1               0   \n",
       "9993        0                  0         1              1               0   \n",
       "9994        0                  0         0              1               0   \n",
       "9996        1                  0         1              0               0   \n",
       "9999        1                  1         1              1               0   \n",
       "\n",
       "      cardio_consultation_hist  \n",
       "1                            1  \n",
       "5                            1  \n",
       "6                            1  \n",
       "7                            1  \n",
       "9                            1  \n",
       "...                        ...  \n",
       "9992                         1  \n",
       "9993                         1  \n",
       "9994                         0  \n",
       "9996                         1  \n",
       "9999                         0  \n",
       "\n",
       "[4782 rows x 10 columns]"
      ]
     },
     "execution_count": 7,
     "metadata": {},
     "output_type": "execute_result"
    }
   ],
   "source": [
    "df_60=(df[df['age']>60])\n",
    "df_60"
   ]
  },
  {
   "cell_type": "code",
   "execution_count": 14,
   "metadata": {},
   "outputs": [
    {
     "data": {
      "text/plain": [
       "2036"
      ]
     },
     "execution_count": 14,
     "metadata": {},
     "output_type": "execute_result"
    }
   ],
   "source": [
    "rslt_df = df_60[(df_60['ic_atcd'] == 1) |\n",
    "          df_60['hypertension_atcd'] == 1]\n",
    "len(rslt_df)"
   ]
  },
  {
   "cell_type": "markdown",
   "metadata": {},
   "source": [
    "<h1>Quelle est la distribution d’âge des individus de moins de 60 ans ?"
   ]
  },
  {
   "cell_type": "code",
   "execution_count": 25,
   "metadata": {},
   "outputs": [
    {
     "data": {
      "text/plain": [
       "<AxesSubplot:>"
      ]
     },
     "execution_count": 25,
     "metadata": {},
     "output_type": "execute_result"
    },
    {
     "data": {
      "image/png": "[encoded data removed]",
      "text/plain": [
       "<Figure size 432x288 with 1 Axes>"
      ]
     },
     "metadata": {
      "needs_background": "light"
     },
     "output_type": "display_data"
    }
   ],
   "source": [
    "df_moins_60=(df[df['age']<60])\n",
    "df_moins_60.age.hist()"
   ]
  },
  {
   "cell_type": "code",
   "execution_count": 24,
   "metadata": {},
   "outputs": [
    {
     "data": {
      "text/plain": [
       "count    5099.000000\n",
       "mean       38.361443\n",
       "std        12.144472\n",
       "min        18.000000\n",
       "25%        28.000000\n",
       "50%        38.000000\n",
       "75%        49.000000\n",
       "max        59.000000\n",
       "Name: age, dtype: float64"
      ]
     },
     "execution_count": 24,
     "metadata": {},
     "output_type": "execute_result"
    }
   ],
   "source": [
    "df_moins_60.age.describe()"
   ]
  },
  {
   "cell_type": "markdown",
   "metadata": {},
   "source": [
    "on voit que la distribution d'âge est assez bien répartie dans l'ensemble"
   ]
  },
  {
   "cell_type": "markdown",
   "metadata": {},
   "source": [
    "<h1>Y-a-t-il une différence statistiquement significative d’avoir un antécédent\n",
    "d’insuffisance cardiaque entre les individus de plus et de moins de 60 ans ?"
   ]
  },
  {
   "cell_type": "code",
   "execution_count": 27,
   "metadata": {},
   "outputs": [
    {
     "name": "stdout",
     "output_type": "stream",
     "text": [
      "4782\n"
     ]
    },
    {
     "data": {
      "text/plain": [
       "5099"
      ]
     },
     "execution_count": 27,
     "metadata": {},
     "output_type": "execute_result"
    }
   ],
   "source": [
    "print(len(df_60.ic_atcd))\n",
    "len(df_moins_60.ic_atcd)"
   ]
  },
  {
   "cell_type": "markdown",
   "metadata": {},
   "source": [
    "Déja en affichant les nombres on voit que la différence entre les deux n'est pas très grande, nous allons désormais faire un test sattistique pour vérifier cela"
   ]
  },
  {
   "cell_type": "code",
   "execution_count": 28,
   "metadata": {},
   "outputs": [
    {
     "name": "stdout",
     "output_type": "stream",
     "text": [
      "Ttest_indResult(statistic=-1.4274104790348372, pvalue=0.15349321918600492)\n"
     ]
    }
   ],
   "source": [
    "import scipy.stats as stats\n",
    "\n",
    "y = stats.ttest_ind(df_60.ic_atcd,df_moins_60.ic_atcd) \n",
    "print(y)"
   ]
  },
  {
   "cell_type": "markdown",
   "metadata": {},
   "source": [
    "la p value est de 0.15, il n'y a donc pas de différence significative."
   ]
  },
  {
   "cell_type": "markdown",
   "metadata": {},
   "source": [
    "<h1>Y-a-t-il une différence statistiquement significative d’âge entre les individus ayant ou\n",
    "non un antécédent d’insuffisance cardiaque"
   ]
  },
  {
   "cell_type": "code",
   "execution_count": 29,
   "metadata": {},
   "outputs": [],
   "source": [
    "df_ic_1 = (df[df['ic_atcd']==1])\n",
    "df_ic_0 = (df[df['ic_atcd']==0])\n"
   ]
  },
  {
   "cell_type": "code",
   "execution_count": 30,
   "metadata": {},
   "outputs": [
    {
     "name": "stdout",
     "output_type": "stream",
     "text": [
      "Ttest_indResult(statistic=-1.008854526252359, pvalue=0.3130688211280792)\n"
     ]
    }
   ],
   "source": [
    "y2 = stats.ttest_ind(df_ic_1.age,df_ic_0.age) \n",
    "print(y2)"
   ]
  },
  {
   "cell_type": "markdown",
   "metadata": {},
   "source": [
    "Il n'y a pas non plus de différence significative"
   ]
  },
  {
   "cell_type": "code",
   "execution_count": null,
   "metadata": {},
   "outputs": [],
   "source": []
  },
  {
   "cell_type": "markdown",
   "metadata": {},
   "source": [
    "<h3>A l’aide de régressions logistiques univariées et multivariées, quelles variables du set\n",
    "de données permettent d’expliquer la survenue d’une complication hospitalière ? La\n",
    "méthodologie à utiliser est la suivante : les variables doivent être sélectionnées sur la\n",
    "base des résultats des modèles univariés avec une significativité supérieure à 0.2."
   ]
  },
  {
   "cell_type": "code",
   "execution_count": 41,
   "metadata": {},
   "outputs": [],
   "source": [
    "from sklearn.linear_model import LogisticRegression\n",
    "from sklearn.preprocessing import StandardScaler\n",
    "from imblearn.pipeline import Pipeline \n",
    "from sklearn.model_selection import train_test_split, GridSearchCV"
   ]
  },
  {
   "cell_type": "code",
   "execution_count": 42,
   "metadata": {},
   "outputs": [],
   "source": [
    "y = df.complication_intra_hosp\n",
    "X = df.drop(\"complication_intra_hosp\", axis=1)\n"
   ]
  },
  {
   "cell_type": "code",
   "execution_count": 44,
   "metadata": {},
   "outputs": [
    {
     "data": {
      "text/plain": [
       "LogisticRegression(penalty='none', solver='newton-cg')"
      ]
     },
     "execution_count": 44,
     "metadata": {},
     "output_type": "execute_result"
    }
   ],
   "source": [
    "# Logistic regression\n",
    "scaler = StandardScaler()\n",
    "Xs = scaler.fit_transform(X)\n",
    "modele_logit = LogisticRegression(penalty='none',solver='newton-cg')\n",
    "modele_logit.fit(Xs,y)\n",
    "\n",
    "\n",
    "\n"
   ]
  },
  {
   "cell_type": "code",
   "execution_count": 48,
   "metadata": {},
   "outputs": [
    {
     "data": {
      "text/html": [
       "<div>\n",
       "<style scoped>\n",
       "    .dataframe tbody tr th:only-of-type {\n",
       "        vertical-align: middle;\n",
       "    }\n",
       "\n",
       "    .dataframe tbody tr th {\n",
       "        vertical-align: top;\n",
       "    }\n",
       "\n",
       "    .dataframe thead th {\n",
       "        text-align: right;\n",
       "    }\n",
       "</style>\n",
       "<table border=\"1\" class=\"dataframe\">\n",
       "  <thead>\n",
       "    <tr style=\"text-align: right;\">\n",
       "      <th></th>\n",
       "      <th>coef</th>\n",
       "    </tr>\n",
       "  </thead>\n",
       "  <tbody>\n",
       "    <tr>\n",
       "      <th>constante</th>\n",
       "      <td>-1.647566</td>\n",
       "    </tr>\n",
       "    <tr>\n",
       "      <th>id_individu</th>\n",
       "      <td>-0.061164</td>\n",
       "    </tr>\n",
       "    <tr>\n",
       "      <th>mortalite_intra_hosp</th>\n",
       "      <td>1.277079</td>\n",
       "    </tr>\n",
       "    <tr>\n",
       "      <th>age</th>\n",
       "      <td>0.027881</td>\n",
       "    </tr>\n",
       "    <tr>\n",
       "      <th>ic_atcd</th>\n",
       "      <td>-0.016532</td>\n",
       "    </tr>\n",
       "    <tr>\n",
       "      <th>hypertension_atcd</th>\n",
       "      <td>-0.010239</td>\n",
       "    </tr>\n",
       "    <tr>\n",
       "      <th>aoc_atcd</th>\n",
       "      <td>0.007073</td>\n",
       "    </tr>\n",
       "    <tr>\n",
       "      <th>aoc_post_hosp</th>\n",
       "      <td>0.037363</td>\n",
       "    </tr>\n",
       "    <tr>\n",
       "      <th>pacemaker_hist</th>\n",
       "      <td>0.027891</td>\n",
       "    </tr>\n",
       "    <tr>\n",
       "      <th>cardio_consultation_hist</th>\n",
       "      <td>0.003296</td>\n",
       "    </tr>\n",
       "  </tbody>\n",
       "</table>\n",
       "</div>"
      ],
      "text/plain": [
       "                              coef\n",
       "constante                -1.647566\n",
       "id_individu              -0.061164\n",
       "mortalite_intra_hosp      1.277079\n",
       "age                       0.027881\n",
       "ic_atcd                  -0.016532\n",
       "hypertension_atcd        -0.010239\n",
       "aoc_atcd                  0.007073\n",
       "aoc_post_hosp             0.037363\n",
       "pacemaker_hist            0.027891\n",
       "cardio_consultation_hist  0.003296"
      ]
     },
     "execution_count": 48,
     "metadata": {},
     "output_type": "execute_result"
    }
   ],
   "source": [
    "import numpy as np\n",
    "pd.DataFrame(np.concatenate([modele_logit.intercept_.reshape(-1,1),\n",
    "                             modele_logit.coef_],axis=1),\n",
    "             index = [\"coef\"],\n",
    "             columns = [\"constante\"]+list(X.columns)).T"
   ]
  },
  {
   "cell_type": "code",
   "execution_count": 49,
   "metadata": {},
   "outputs": [
    {
     "name": "stdout",
     "output_type": "stream",
     "text": [
      "Optimization terminated successfully.\n",
      "         Current function value: 0.347018\n",
      "         Iterations 6\n"
     ]
    }
   ],
   "source": [
    "import statsmodels.api as sm\n",
    "x_stat = sm.add_constant(Xs)\n",
    "# on ajuste le modèle\n",
    "model = sm.Logit(y, x_stat)\n",
    "result = model.fit()"
   ]
  },
  {
   "cell_type": "code",
   "execution_count": 50,
   "metadata": {},
   "outputs": [
    {
     "data": {
      "text/html": [
       "<table class=\"simpletable\">\n",
       "<caption>Logit Regression Results</caption>\n",
       "<tr>\n",
       "  <th>Dep. Variable:</th>   <td>complication_intra_hosp</td> <th>  No. Observations:  </th>  <td> 10000</td> \n",
       "</tr>\n",
       "<tr>\n",
       "  <th>Model:</th>                    <td>Logit</td>          <th>  Df Residuals:      </th>  <td>  9990</td> \n",
       "</tr>\n",
       "<tr>\n",
       "  <th>Method:</th>                    <td>MLE</td>           <th>  Df Model:          </th>  <td>     9</td> \n",
       "</tr>\n",
       "<tr>\n",
       "  <th>Date:</th>               <td>Thu, 15 Dec 2022</td>     <th>  Pseudo R-squ.:     </th>  <td>0.2878</td> \n",
       "</tr>\n",
       "<tr>\n",
       "  <th>Time:</th>                   <td>12:42:33</td>         <th>  Log-Likelihood:    </th> <td> -3470.2</td>\n",
       "</tr>\n",
       "<tr>\n",
       "  <th>converged:</th>                <td>True</td>           <th>  LL-Null:           </th> <td> -4872.4</td>\n",
       "</tr>\n",
       "<tr>\n",
       "  <th>Covariance Type:</th>        <td>nonrobust</td>        <th>  LLR p-value:       </th>  <td> 0.000</td> \n",
       "</tr>\n",
       "</table>\n",
       "<table class=\"simpletable\">\n",
       "<tr>\n",
       "    <td></td>       <th>coef</th>     <th>std err</th>      <th>z</th>      <th>P>|z|</th>  <th>[0.025</th>    <th>0.975]</th>  \n",
       "</tr>\n",
       "<tr>\n",
       "  <th>const</th> <td>   -1.6476</td> <td>    0.032</td> <td>  -51.528</td> <td> 0.000</td> <td>   -1.710</td> <td>   -1.585</td>\n",
       "</tr>\n",
       "<tr>\n",
       "  <th>x1</th>    <td>   -0.0612</td> <td>    0.037</td> <td>   -1.642</td> <td> 0.100</td> <td>   -0.134</td> <td>    0.012</td>\n",
       "</tr>\n",
       "<tr>\n",
       "  <th>x2</th>    <td>    1.2771</td> <td>    0.051</td> <td>   24.974</td> <td> 0.000</td> <td>    1.177</td> <td>    1.377</td>\n",
       "</tr>\n",
       "<tr>\n",
       "  <th>x3</th>    <td>    0.0279</td> <td>    0.032</td> <td>    0.873</td> <td> 0.383</td> <td>   -0.035</td> <td>    0.090</td>\n",
       "</tr>\n",
       "<tr>\n",
       "  <th>x4</th>    <td>   -0.0165</td> <td>    0.032</td> <td>   -0.515</td> <td> 0.606</td> <td>   -0.079</td> <td>    0.046</td>\n",
       "</tr>\n",
       "<tr>\n",
       "  <th>x5</th>    <td>   -0.0102</td> <td>    0.033</td> <td>   -0.306</td> <td> 0.760</td> <td>   -0.076</td> <td>    0.055</td>\n",
       "</tr>\n",
       "<tr>\n",
       "  <th>x6</th>    <td>    0.0071</td> <td>    0.035</td> <td>    0.203</td> <td> 0.839</td> <td>   -0.061</td> <td>    0.075</td>\n",
       "</tr>\n",
       "<tr>\n",
       "  <th>x7</th>    <td>    0.0374</td> <td>    0.043</td> <td>    0.866</td> <td> 0.386</td> <td>   -0.047</td> <td>    0.122</td>\n",
       "</tr>\n",
       "<tr>\n",
       "  <th>x8</th>    <td>    0.0279</td> <td>    0.033</td> <td>    0.856</td> <td> 0.392</td> <td>   -0.036</td> <td>    0.092</td>\n",
       "</tr>\n",
       "<tr>\n",
       "  <th>x9</th>    <td>    0.0033</td> <td>    0.032</td> <td>    0.103</td> <td> 0.918</td> <td>   -0.059</td> <td>    0.066</td>\n",
       "</tr>\n",
       "</table>"
      ],
      "text/plain": [
       "<class 'statsmodels.iolib.summary.Summary'>\n",
       "\"\"\"\n",
       "                              Logit Regression Results                             \n",
       "===================================================================================\n",
       "Dep. Variable:     complication_intra_hosp   No. Observations:                10000\n",
       "Model:                               Logit   Df Residuals:                     9990\n",
       "Method:                                MLE   Df Model:                            9\n",
       "Date:                     Thu, 15 Dec 2022   Pseudo R-squ.:                  0.2878\n",
       "Time:                             12:42:33   Log-Likelihood:                -3470.2\n",
       "converged:                            True   LL-Null:                       -4872.4\n",
       "Covariance Type:                 nonrobust   LLR p-value:                     0.000\n",
       "==============================================================================\n",
       "                 coef    std err          z      P>|z|      [0.025      0.975]\n",
       "------------------------------------------------------------------------------\n",
       "const         -1.6476      0.032    -51.528      0.000      -1.710      -1.585\n",
       "x1            -0.0612      0.037     -1.642      0.100      -0.134       0.012\n",
       "x2             1.2771      0.051     24.974      0.000       1.177       1.377\n",
       "x3             0.0279      0.032      0.873      0.383      -0.035       0.090\n",
       "x4            -0.0165      0.032     -0.515      0.606      -0.079       0.046\n",
       "x5            -0.0102      0.033     -0.306      0.760      -0.076       0.055\n",
       "x6             0.0071      0.035      0.203      0.839      -0.061       0.075\n",
       "x7             0.0374      0.043      0.866      0.386      -0.047       0.122\n",
       "x8             0.0279      0.033      0.856      0.392      -0.036       0.092\n",
       "x9             0.0033      0.032      0.103      0.918      -0.059       0.066\n",
       "==============================================================================\n",
       "\"\"\""
      ]
     },
     "execution_count": 50,
     "metadata": {},
     "output_type": "execute_result"
    }
   ],
   "source": [
    "result.summary()"
   ]
  },
  {
   "cell_type": "markdown",
   "metadata": {},
   "source": [
    "En utilisant ces deux méthodse les variables sélectionnées sont : age, aoc_post_hosp et pacemaker_hist\n",
    "    \n",
    "    "
   ]
  },
  {
   "cell_type": "markdown",
   "metadata": {},
   "source": [
    "<h3>(Bonus) A l’aide du modèle de Machine Learning de votre choix, décrivez la démarche\n",
    "que vous auriez adoptée, et les outils python que vous auriez utilisés pour prédire la\n",
    "mortalité intra hospitalière (décès au cours d’une hospitalisation)."
   ]
  },
  {
   "cell_type": "code",
   "execution_count": 53,
   "metadata": {},
   "outputs": [],
   "source": [
    "y = df.mortalite_intra_hosp\n",
    "X = df.drop(\"mortalite_intra_hosp\", axis=1)\n"
   ]
  },
  {
   "cell_type": "code",
   "execution_count": 54,
   "metadata": {},
   "outputs": [],
   "source": [
    "from sklearn.ensemble import RandomForestClassifier"
   ]
  },
  {
   "cell_type": "code",
   "execution_count": 58,
   "metadata": {},
   "outputs": [
    {
     "data": {
      "text/html": [
       "<div>\n",
       "<style scoped>\n",
       "    .dataframe tbody tr th:only-of-type {\n",
       "        vertical-align: middle;\n",
       "    }\n",
       "\n",
       "    .dataframe tbody tr th {\n",
       "        vertical-align: top;\n",
       "    }\n",
       "\n",
       "    .dataframe thead th {\n",
       "        text-align: right;\n",
       "    }\n",
       "</style>\n",
       "<table border=\"1\" class=\"dataframe\">\n",
       "  <thead>\n",
       "    <tr style=\"text-align: right;\">\n",
       "      <th></th>\n",
       "      <th>id_individu</th>\n",
       "      <th>complication_intra_hosp</th>\n",
       "      <th>age</th>\n",
       "      <th>ic_atcd</th>\n",
       "      <th>hypertension_atcd</th>\n",
       "      <th>aoc_atcd</th>\n",
       "      <th>aoc_post_hosp</th>\n",
       "      <th>pacemaker_hist</th>\n",
       "      <th>cardio_consultation_hist</th>\n",
       "    </tr>\n",
       "  </thead>\n",
       "  <tbody>\n",
       "    <tr>\n",
       "      <th>8267</th>\n",
       "      <td>8267</td>\n",
       "      <td>1</td>\n",
       "      <td>45</td>\n",
       "      <td>0</td>\n",
       "      <td>0</td>\n",
       "      <td>1</td>\n",
       "      <td>1</td>\n",
       "      <td>0</td>\n",
       "      <td>0</td>\n",
       "    </tr>\n",
       "    <tr>\n",
       "      <th>1486</th>\n",
       "      <td>1486</td>\n",
       "      <td>0</td>\n",
       "      <td>30</td>\n",
       "      <td>0</td>\n",
       "      <td>0</td>\n",
       "      <td>1</td>\n",
       "      <td>0</td>\n",
       "      <td>0</td>\n",
       "      <td>1</td>\n",
       "    </tr>\n",
       "    <tr>\n",
       "      <th>405</th>\n",
       "      <td>405</td>\n",
       "      <td>1</td>\n",
       "      <td>24</td>\n",
       "      <td>1</td>\n",
       "      <td>1</td>\n",
       "      <td>0</td>\n",
       "      <td>0</td>\n",
       "      <td>0</td>\n",
       "      <td>1</td>\n",
       "    </tr>\n",
       "    <tr>\n",
       "      <th>3256</th>\n",
       "      <td>3256</td>\n",
       "      <td>0</td>\n",
       "      <td>74</td>\n",
       "      <td>0</td>\n",
       "      <td>0</td>\n",
       "      <td>0</td>\n",
       "      <td>1</td>\n",
       "      <td>0</td>\n",
       "      <td>1</td>\n",
       "    </tr>\n",
       "    <tr>\n",
       "      <th>2757</th>\n",
       "      <td>2757</td>\n",
       "      <td>0</td>\n",
       "      <td>68</td>\n",
       "      <td>1</td>\n",
       "      <td>0</td>\n",
       "      <td>0</td>\n",
       "      <td>1</td>\n",
       "      <td>0</td>\n",
       "      <td>1</td>\n",
       "    </tr>\n",
       "    <tr>\n",
       "      <th>...</th>\n",
       "      <td>...</td>\n",
       "      <td>...</td>\n",
       "      <td>...</td>\n",
       "      <td>...</td>\n",
       "      <td>...</td>\n",
       "      <td>...</td>\n",
       "      <td>...</td>\n",
       "      <td>...</td>\n",
       "      <td>...</td>\n",
       "    </tr>\n",
       "    <tr>\n",
       "      <th>8893</th>\n",
       "      <td>8893</td>\n",
       "      <td>0</td>\n",
       "      <td>62</td>\n",
       "      <td>0</td>\n",
       "      <td>0</td>\n",
       "      <td>1</td>\n",
       "      <td>1</td>\n",
       "      <td>0</td>\n",
       "      <td>1</td>\n",
       "    </tr>\n",
       "    <tr>\n",
       "      <th>180</th>\n",
       "      <td>180</td>\n",
       "      <td>1</td>\n",
       "      <td>42</td>\n",
       "      <td>0</td>\n",
       "      <td>0</td>\n",
       "      <td>0</td>\n",
       "      <td>1</td>\n",
       "      <td>0</td>\n",
       "      <td>1</td>\n",
       "    </tr>\n",
       "    <tr>\n",
       "      <th>792</th>\n",
       "      <td>792</td>\n",
       "      <td>1</td>\n",
       "      <td>52</td>\n",
       "      <td>1</td>\n",
       "      <td>1</td>\n",
       "      <td>1</td>\n",
       "      <td>0</td>\n",
       "      <td>0</td>\n",
       "      <td>1</td>\n",
       "    </tr>\n",
       "    <tr>\n",
       "      <th>3675</th>\n",
       "      <td>3675</td>\n",
       "      <td>0</td>\n",
       "      <td>60</td>\n",
       "      <td>0</td>\n",
       "      <td>0</td>\n",
       "      <td>1</td>\n",
       "      <td>1</td>\n",
       "      <td>0</td>\n",
       "      <td>1</td>\n",
       "    </tr>\n",
       "    <tr>\n",
       "      <th>2987</th>\n",
       "      <td>2987</td>\n",
       "      <td>0</td>\n",
       "      <td>92</td>\n",
       "      <td>0</td>\n",
       "      <td>0</td>\n",
       "      <td>1</td>\n",
       "      <td>1</td>\n",
       "      <td>0</td>\n",
       "      <td>1</td>\n",
       "    </tr>\n",
       "  </tbody>\n",
       "</table>\n",
       "<p>8000 rows × 9 columns</p>\n",
       "</div>"
      ],
      "text/plain": [
       "      id_individu  complication_intra_hosp  age  ic_atcd  hypertension_atcd  \\\n",
       "8267         8267                        1   45        0                  0   \n",
       "1486         1486                        0   30        0                  0   \n",
       "405           405                        1   24        1                  1   \n",
       "3256         3256                        0   74        0                  0   \n",
       "2757         2757                        0   68        1                  0   \n",
       "...           ...                      ...  ...      ...                ...   \n",
       "8893         8893                        0   62        0                  0   \n",
       "180           180                        1   42        0                  0   \n",
       "792           792                        1   52        1                  1   \n",
       "3675         3675                        0   60        0                  0   \n",
       "2987         2987                        0   92        0                  0   \n",
       "\n",
       "      aoc_atcd  aoc_post_hosp  pacemaker_hist  cardio_consultation_hist  \n",
       "8267         1              1               0                         0  \n",
       "1486         1              0               0                         1  \n",
       "405          0              0               0                         1  \n",
       "3256         0              1               0                         1  \n",
       "2757         0              1               0                         1  \n",
       "...        ...            ...             ...                       ...  \n",
       "8893         1              1               0                         1  \n",
       "180          0              1               0                         1  \n",
       "792          1              0               0                         1  \n",
       "3675         1              1               0                         1  \n",
       "2987         1              1               0                         1  \n",
       "\n",
       "[8000 rows x 9 columns]"
      ]
     },
     "execution_count": 58,
     "metadata": {},
     "output_type": "execute_result"
    }
   ],
   "source": [
    "from sklearn.model_selection import train_test_split\n",
    "\n",
    "\n",
    "X_train , X_test, y_train ,y_test = train_test_split(X ,y ,test_size=0.2)\n",
    "X_train"
   ]
  },
  {
   "cell_type": "code",
   "execution_count": 59,
   "metadata": {},
   "outputs": [
    {
     "name": "stdout",
     "output_type": "stream",
     "text": [
      "Returned hyperparameter: {'rf__n_estimators': 800}\n",
      "Best classification accuracy in train is: 0.9998750156230471\n",
      "Classification accuracy on test is: 1.0\n"
     ]
    }
   ],
   "source": [
    "pipe = Pipeline([('scaler', StandardScaler()), ('rf', RandomForestClassifier())])\n",
    "parameters5 = {'rf__n_estimators': [800,900,1000,1100, 1200, 1300]} # defining parameter space\n",
    "clf5 = GridSearchCV(pipe, parameters5, cv=3)\n",
    "clf5.fit(X_train, y_train)\n",
    "\n",
    "print('Returned hyperparameter: {}'.format(clf5.best_params_))\n",
    "print('Best classification accuracy in train is: {}'.format(clf5.best_score_))\n",
    "print('Classification accuracy on test is: {}'.format(clf5.score(X_test, y_test)))\n"
   ]
  },
  {
   "cell_type": "code",
   "execution_count": 61,
   "metadata": {},
   "outputs": [
    {
     "data": {
      "image/png": "[encoded data removed]",
      "text/plain": [
       "<Figure size 432x288 with 2 Axes>"
      ]
     },
     "metadata": {
      "needs_background": "light"
     },
     "output_type": "display_data"
    },
    {
     "data": {
      "text/plain": [
       "<Figure size 720x720 with 0 Axes>"
      ]
     },
     "metadata": {},
     "output_type": "display_data"
    }
   ],
   "source": [
    "import matplotlib.pyplot as plt\n",
    "from sklearn.metrics import plot_confusion_matrix\n",
    "plot_confusion_matrix(clf5, X_test, y_test)  \n",
    "plt.figure(figsize=(10,10))\n",
    "plt.show()"
   ]
  },
  {
   "cell_type": "markdown",
   "metadata": {},
   "source": [
    "J'utiliserai le modèle random forest pour ses performances acrrues.\n",
    "je commencerai par diviser le jeu de données en données d'apprentissage et données de test\n",
    "puis à l'aide d'une pipeline je cominerai les opérations de centrer et réduire les données afin d'avoir la même échelle et le lancement de l'algorithme, ce lancement sera fait en validation croisé en testant différents paramètres ici qu'un seul pour l'instant et le resultat de cette validation croisée serait le resultat optimal.\n",
    "ici on voit que l'accuracy est de 1 ce qui est un peu bizarre, on peut se demander si alors le jeu de données n'est pas déséquilibré, ce qui est en effet le cas et on le voit quand on affiche la matrice de confusion, mais ce qui est surprenant c'est que malgré ce déséquilibre on voit que tout a été bien prédit sans erreur"
   ]
  },
  {
   "cell_type": "code",
   "execution_count": null,
   "metadata": {},
   "outputs": [],
   "source": []
  }
 ],
 "metadata": {
  "kernelspec": {
   "display_name": "Python 3",
   "language": "python",
   "name": "python3"
  },
  "language_info": {
   "codemirror_mode": {
    "name": "ipython",
    "version": 3
   },
   "file_extension": ".py",
   "mimetype": "text/x-python",
   "name": "python",
   "nbconvert_exporter": "python",
   "pygments_lexer": "ipython3",
   "version": "3.7.7"
  }
 },
 "nbformat": 4,
 "nbformat_minor": 4
}
